{
 "cells": [
  {
   "cell_type": "code",
   "execution_count": 1,
   "id": "075c55ae",
   "metadata": {},
   "outputs": [],
   "source": [
    "from pydantic import BaseModel\n",
    "from unstructured.partition.html import partition_html\n",
    "import pandas as pd\n",
    "\n",
    "pd.set_option(\"display.max_rows\", None)\n",
    "pd.set_option(\"display.max_columns\", None)\n",
    "pd.set_option(\"display.width\", None)\n",
    "pd.set_option(\"display.max_colwidth\", None)"
   ]
  },
  {
   "cell_type": "code",
   "execution_count": 4,
   "id": "b2c81ed3",
   "metadata": {},
   "outputs": [],
   "source": [
    "from llama_index.readers.file.flat_reader import FlatReader\n",
    "from pathlib import Path\n",
    "\n",
    "reader = FlatReader()\n",
    "docs_2021 = reader.load_data(Path(\"tesla_2021_10k.htm\"))"
   ]
  },
  {
   "cell_type": "code",
   "execution_count": 7,
   "id": "1394b8a3",
   "metadata": {},
   "outputs": [
    {
     "data": {
      "text/plain": [
       "1"
      ]
     },
     "execution_count": 7,
     "metadata": {},
     "output_type": "execute_result"
    }
   ],
   "source": [
    "len(docs_2021)"
   ]
  },
  {
   "cell_type": "code",
   "execution_count": 8,
   "id": "a2f33715",
   "metadata": {},
   "outputs": [],
   "source": [
    "from llama_index.node_parser import (\n",
    "    UnstructuredElementNodeParser,\n",
    ")\n",
    "\n",
    "node_parser = UnstructuredElementNodeParser()"
   ]
  },
  {
   "cell_type": "code",
   "execution_count": 22,
   "id": "4a52d962",
   "metadata": {},
   "outputs": [
    {
     "name": "stdout",
     "output_type": "stream",
     "text": [
      "Embeddings have been explicitly disabled. Using MockEmbedding.\n"
     ]
    },
    {
     "name": "stderr",
     "output_type": "stream",
     "text": [
      "0it [00:00, ?it/s]\n"
     ]
    }
   ],
   "source": [
    "import os\n",
    "import pickle\n",
    "\n",
    "raw_nodes_2021 = node_parser.get_nodes_from_documents(docs_2021)\n"
   ]
  },
  {
   "cell_type": "code",
   "execution_count": 23,
   "id": "62b192a2",
   "metadata": {},
   "outputs": [
    {
     "data": {
      "text/plain": [
       "117"
      ]
     },
     "execution_count": 23,
     "metadata": {},
     "output_type": "execute_result"
    }
   ],
   "source": [
    "len(raw_nodes_2021)"
   ]
  },
  {
   "cell_type": "code",
   "execution_count": 24,
   "id": "4eaf3d7e",
   "metadata": {},
   "outputs": [
    {
     "data": {
      "text/plain": [
       "TextNode(id_='c4e3db9c-8a64-4961-a536-3656a43ed338', embedding=None, metadata={}, excluded_embed_metadata_keys=[], excluded_llm_metadata_keys=[], relationships={<NodeRelationship.SOURCE: '1'>: RelatedNodeInfo(node_id='23dc6069-36c5-4b27-97c7-ed80a3c2807b', node_type=<ObjectType.DOCUMENT: '4'>, metadata={}, hash='4f8e40e1025980011811d170a1d1d25a98312c54b767acc3c7a0b0c2ab4d4772'), <NodeRelationship.NEXT: '3'>: RelatedNodeInfo(node_id='f3d41038-874d-409e-a1d7-ce480dbd3fbd', node_type=<ObjectType.TEXT: '1'>, metadata={}, hash='8e34d4f2d6c1c3079559e56c6210676be9c554cdc5bdab4d680d14d06cb3605e')}, hash='77113067c3c6858f9c1bf342c074065137739638cb7f7ea0e187d70be69a798b', text='UNITED STATES\\n\\nSECURITIES AND EXCHANGE COMMISSION\\n\\nWashington, D.C. 20549\\n\\nFORM 10-K\\n\\n(Mark One)\\n\\nANNUAL REPORT PURSUANT TO SECTION 13 OR 15(d) OF THE SECURITIES EXCHANGE ACT OF 1934\\n\\nFor the fiscal year ended December 31, 2021\\n\\nOR\\n\\nTRANSITION REPORT PURSUANT TO SECTION 13 OR 15(d) OF THE SECURITIES EXCHANGE ACT OF 1934\\n\\nFor the transition period from _________ to _________\\n\\nCommission File Number: 001-34756\\n\\nTesla, Inc.\\n\\n(Exact name of registrant as specified in its charter)\\n\\nDelaware\\n\\n91-2197729\\n\\n(State or other jurisdiction ofincorporation or organization)\\n\\n(I.R.S. EmployerIdentification No.)\\n\\n13101 Tesla RoadAustin, Texas\\n\\n78725\\n\\n(Address of principal executive offices)\\n\\n(Zip Code)\\n\\n(512) 516-8177\\n\\n(Registrant’s telephone number, including area code)\\n\\nSecurities registered pursuant to Section 12(b) of the Act:\\n\\nTitle of each class\\n\\nTrading Symbol(s)\\n\\nName of each exchange on which registered\\n\\nCommon stock\\n\\nTSLA\\n\\nThe Nasdaq Global Select Market\\n\\nSecurities registered pursuant to Section 12(g) of the Act:\\n\\nNone\\n\\nIndicate by check mark whether the registrant is a well-known seasoned issuer, as defined in Rule 405 of the Securities Act.\\n\\nYes\\n\\nNo\\n\\nIndicate by check mark if the registrant is not required to file reports pursuant to Section 13 or 15(d) of the Act.    Yes\\n\\nNo\\n\\nIndicate by check mark whether the registrant (1) has filed all reports required to be filed by Section 13 or 15(d) of the Securities Exchange Act of 1934 (“Exchange Act”) during the preceding 12 months (or for such shorter period that the registrant was required to file such reports), and (2) has been subject to such filing requirements for the past 90 days.\\n\\nYes\\n\\nNo\\n\\nIndicate by check mark whether the registrant has submitted electronically every Interactive Data File required to be submitted pursuant to Rule 405 of Regulation S-T (§232.405 of this chapter) during the preceding 12 months (or for such shorter period that the registrant was required to submit such files).\\n\\nYes\\n\\nNo\\n\\nIndicate by check mark whether the registrant is a large accelerated filer, an accelerated filer, a non-accelerated filer, a smaller reporting company, or an emerging growth company. See the definitions of “large accelerated filer,” “accelerated filer,” “smaller reporting company” and “emerging growth company” in Rule 12b-2 of the Exchange Act:\\n\\nLarge accelerated filer\\n\\nAccelerated filer\\n\\nNon-accelerated filer\\n\\nSmaller reporting company\\n\\nEmerging growth company\\n\\nIf an emerging growth company, indicate by check mark if the registrant has elected not to use the extended transition period for complying with any new or revised financial accounting standards provided pursuant to Section 13(a) of the Exchange Act. ☐\\n\\nIndicate by check mark whether the Registrant has filed a report on and attestation to its management’s assessment of the effectiveness of its internal control over financial reporting under Section 404(b) of the Sarbanes-Oxley Act (15 U.S.C. 7262(b)) by the registered public accounting firm that prepared or issued its audit report. ☒\\n\\nIndicate by check mark whether the registrant is a shell company (as defined in Rule 12b-2 of the Exchange Act).    Yes  ☐    No  ☒\\n\\nThe aggregate market value of voting stock held by non-affiliates of the registrant, as of June 30, 2021, the last day of the registrant’s most recently completed second fiscal quarter, was $541.28 billion (based on the closing price for shares of the registrant’s Common Stock as reported by the NASDAQ Global Select Market on June 30, 2021). Shares of Common Stock held by each executive officer, director, and holder of 5% or more of the outstanding Common Stock have been excluded in that such persons may be deemed to be affiliates. This determination of affiliate status is not necessarily a conclusive determination for other purposes.\\n\\nAs of January 31, 2022, there were 1,033,507,611 shares of the registrant’s common stock outstanding.\\n\\nDOCUMENTS INCORPORATED BY REFERENCE\\n\\nPortions of the registrant’s Proxy Statement for the 2022 Annual Meeting of Stockholders are incorporated herein by reference in Part III of this Annual Report on Form 10-K to the extent stated herein. Such proxy statement will be filed with the Securities and Exchange Commission within 120 days of the registrant’s fiscal year ended December 31, 2021.\\n\\nTESLA, INC.', start_char_idx=0, end_char_idx=4327, text_template='{metadata_str}\\n\\n{content}', metadata_template='{key}: {value}', metadata_seperator='\\n')"
      ]
     },
     "execution_count": 24,
     "metadata": {},
     "output_type": "execute_result"
    }
   ],
   "source": [
    "raw_nodes_2021[0]"
   ]
  },
  {
   "cell_type": "code",
   "execution_count": 25,
   "id": "6c70a393",
   "metadata": {},
   "outputs": [],
   "source": [
    "base_nodes_2021, node_mappings_2021 = node_parser.get_base_nodes_and_mappings(\n",
    "    raw_nodes_2021\n",
    ")"
   ]
  },
  {
   "cell_type": "code",
   "execution_count": 26,
   "id": "4b7ebc42",
   "metadata": {},
   "outputs": [
    {
     "data": {
      "text/plain": [
       "117"
      ]
     },
     "execution_count": 26,
     "metadata": {},
     "output_type": "execute_result"
    }
   ],
   "source": [
    "len(base_nodes_2021)"
   ]
  },
  {
   "cell_type": "code",
   "execution_count": 27,
   "id": "d5816270",
   "metadata": {},
   "outputs": [
    {
     "data": {
      "text/plain": [
       "{}"
      ]
     },
     "execution_count": 27,
     "metadata": {},
     "output_type": "execute_result"
    }
   ],
   "source": [
    "node_mappings_2021"
   ]
  },
  {
   "cell_type": "code",
   "execution_count": 28,
   "id": "f0c9f04f",
   "metadata": {},
   "outputs": [],
   "source": [
    "from llama_index.schema import IndexNode"
   ]
  },
  {
   "cell_type": "code",
   "execution_count": null,
   "id": "ed8cc3a5",
   "metadata": {},
   "outputs": [],
   "source": []
  }
 ],
 "metadata": {
  "kernelspec": {
   "display_name": "Python 3 (ipykernel)",
   "language": "python",
   "name": "python3"
  },
  "language_info": {
   "codemirror_mode": {
    "name": "ipython",
    "version": 3
   },
   "file_extension": ".py",
   "mimetype": "text/x-python",
   "name": "python",
   "nbconvert_exporter": "python",
   "pygments_lexer": "ipython3",
   "version": "3.9.12"
  }
 },
 "nbformat": 4,
 "nbformat_minor": 5
}
